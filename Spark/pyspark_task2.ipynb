{
  "nbformat": 4,
  "nbformat_minor": 0,
  "metadata": {
    "colab": {
      "provenance": []
    },
    "kernelspec": {
      "name": "python3",
      "display_name": "Python 3"
    },
    "language_info": {
      "name": "python"
    }
  },
  "cells": [
    {
      "cell_type": "code",
      "execution_count": null,
      "metadata": {
        "colab": {
          "base_uri": "https://localhost:8080/"
        },
        "id": "MBnI66fP4J4I",
        "outputId": "481068bf-1add-489f-b0c0-4d4040777602"
      },
      "outputs": [
        {
          "output_type": "stream",
          "name": "stdout",
          "text": [
            "Collecting pyspark\n",
            "  Downloading pyspark-3.5.1.tar.gz (317.0 MB)\n",
            "\u001b[2K     \u001b[90m━━━━━━━━━━━━━━━━━━━━━━━━━━━━━━━━━━━━━━━━\u001b[0m \u001b[32m317.0/317.0 MB\u001b[0m \u001b[31m2.3 MB/s\u001b[0m eta \u001b[36m0:00:00\u001b[0m\n",
            "\u001b[?25h  Preparing metadata (setup.py) ... \u001b[?25l\u001b[?25hdone\n",
            "Requirement already satisfied: py4j==0.10.9.7 in /usr/local/lib/python3.10/dist-packages (from pyspark) (0.10.9.7)\n",
            "Building wheels for collected packages: pyspark\n",
            "  Building wheel for pyspark (setup.py) ... \u001b[?25l\u001b[?25hdone\n",
            "  Created wheel for pyspark: filename=pyspark-3.5.1-py2.py3-none-any.whl size=317488491 sha256=9cccc116e48a36de22c6288741e7c09f0cceb7b5bf741b41a0413e4d02826c12\n",
            "  Stored in directory: /root/.cache/pip/wheels/80/1d/60/2c256ed38dddce2fdd93be545214a63e02fbd8d74fb0b7f3a6\n",
            "Successfully built pyspark\n",
            "Installing collected packages: pyspark\n",
            "Successfully installed pyspark-3.5.1\n"
          ]
        }
      ],
      "source": [
        "pip install pyspark\n"
      ]
    },
    {
      "cell_type": "code",
      "source": [
        "from pyspark.sql import SparkSession\n",
        "from pyspark.sql.functions import sum, col"
      ],
      "metadata": {
        "id": "MS3nTfNq448c"
      },
      "execution_count": null,
      "outputs": []
    },
    {
      "cell_type": "code",
      "source": [
        "\n",
        "# Create a SparkSession\n",
        "spark = SparkSession.builder.appName(\"SalesDataAnalysis\").getOrCreate()\n"
      ],
      "metadata": {
        "id": "VXo226n64-mi"
      },
      "execution_count": null,
      "outputs": []
    },
    {
      "cell_type": "code",
      "source": [
        "# Load the sales data into a DataFrame\n",
        "sales_data = spark.read.csv(\"apple_products.csv\", header=True, inferSchema=True)\n",
        "sales_data.show()"
      ],
      "metadata": {
        "colab": {
          "base_uri": "https://localhost:8080/"
        },
        "id": "yk4bRNDe5QIt",
        "outputId": "5426f516-af59-42e6-e1b9-d6fbea658d71"
      },
      "execution_count": null,
      "outputs": [
        {
          "output_type": "stream",
          "name": "stdout",
          "text": [
            "+-----+--------------------+--------------------+-----+----------+------+-------------------+-----------------+-----------------+----------------+-----------+----+\n",
            "|index|        Product Name|         Product URL|Brand|Sale Price|   Mrp|Discount Percentage|Number Of Ratings|Number Of Reviews|             Upc|Star Rating| Ram|\n",
            "+-----+--------------------+--------------------+-----+----------+------+-------------------+-----------------+-----------------+----------------+-----------+----+\n",
            "|    0|APPLE iPhone 8 Pl...|https://www.flipk...|Apple|     49900| 49900|                  0|             3431|              356|MOBEXRGV7EHHTGUH|        4.6|2 GB|\n",
            "|    1|APPLE iPhone 8 Pl...|https://www.flipk...|Apple|     84900| 84900|                  0|             3431|              356|MOBEXRGVAC6TJT4F|        4.6|2 GB|\n",
            "|    2|APPLE iPhone 8 Pl...|https://www.flipk...|Apple|     84900| 84900|                  0|             3431|              356|MOBEXRGVGETABXWZ|        4.6|2 GB|\n",
            "|    3|APPLE iPhone 8 (S...|https://www.flipk...|Apple|     77000| 77000|                  0|            11202|              794|MOBEXRGVMZWUHCBA|        4.5|2 GB|\n",
            "|    4|APPLE iPhone 8 (G...|https://www.flipk...|Apple|     77000| 77000|                  0|            11202|              794|MOBEXRGVPK7PFEJZ|        4.5|2 GB|\n",
            "|    5|APPLE iPhone 8 Pl...|https://www.flipk...|Apple|     49900| 49900|                  0|             3431|              356|MOBEXRGVQGYYP8FV|        4.6|2 GB|\n",
            "|    6|APPLE iPhone 8 Pl...|https://www.flipk...|Apple|     49900| 49900|                  0|             3431|              356|MOBEXRGVQKBREZP8|        4.6|2 GB|\n",
            "|    7|APPLE iPhone 8 (S...|https://www.flipk...|Apple|     77000| 77000|                  0|            11202|              794|MOBEXRGVZFZGZEWV|        4.5|2 GB|\n",
            "|    8|APPLE iPhone XS M...|https://www.flipk...|Apple|     89900| 89900|                  0|             1454|              149|MOBF944E2XAHW8V5|        4.6|4 GB|\n",
            "|    9|Apple iPhone XR (...|https://www.flipk...|Apple|      NULL| 52900|                 20|            79512|             6796|MOBF9Z7ZHQC23PWQ|        4.6|4 GB|\n",
            "|   10|Apple iPhone XR (...|https://www.flipk...|Apple|     39999| 47900|                 16|            79512|             6796|            NULL|        4.6|4 GB|\n",
            "|   11|Apple iPhone XR (...|https://www.flipk...|Apple|     41999| 52900|                 20|            79582|             6804|MOBF9Z7ZS6GF5UAP|        4.6|4 GB|\n",
            "|   12|Apple iPhone XR (...|https://www.flipk...|Apple|     41999| 52900|                 20|            79512|             6796|MOBF9Z7ZYWNFGZUC|        4.6|3 GB|\n",
            "|   13|Apple iPhone XR (...|https://www.flipk...|Apple|     41999|  NULL|                 20|            79512|             6796|MOBF9Z7ZZY3HCDZZ|        4.6|4 GB|\n",
            "|   14|APPLE iPhone 11 P...|https://www.flipk...|Apple|    131900|131900|                  0|             1078|              101|MOBFKCTS7HCHSPFH|        4.7|4 GB|\n",
            "|   15|APPLE iPhone 11 P...|https://www.flipk...|Apple|    117100|117100|                  0|             1078|              101|MOBFKCTSAPAYNSGG|        4.7|4 GB|\n",
            "|   16|APPLE iPhone 11 P...|https://www.flipk...|Apple|    131900|131900|                  0|             1078|              101|MOBFKCTSCAAKGQV7|        4.7|4 GB|\n",
            "|   17|                NULL|https://www.flipk...|Apple|    117100|117100|                  0|             1078|              101|MOBFKCTSKDMKCGQS|        4.7|4 GB|\n",
            "|   18|APPLE iPhone 11 P...|https://www.flipk...|Apple|     74999|106600|                 29|             7088|              523|MOBFKCTSN3TG3RFJ|        4.6|4 GB|\n",
            "|   19|APPLE iPhone 11 P...|https://www.flipk...|Apple|    117900|140300|                 15|             7088|              523|MOBFKCTSRTHRQTFT|        4.6|4 GB|\n",
            "+-----+--------------------+--------------------+-----+----------+------+-------------------+-----------------+-----------------+----------------+-----------+----+\n",
            "only showing top 20 rows\n",
            "\n"
          ]
        }
      ]
    },
    {
      "cell_type": "code",
      "source": [],
      "metadata": {
        "id": "Odb64YGk9sxk"
      },
      "execution_count": null,
      "outputs": []
    },
    {
      "cell_type": "code",
      "source": [
        "# Handle missing values by dropping rows with any missing values\n",
        "cleaned_sales_data = sales_data.na.drop()\n",
        "sales_data.show()"
      ],
      "metadata": {
        "colab": {
          "base_uri": "https://localhost:8080/"
        },
        "id": "p_PKEcXv5cCc",
        "outputId": "bf4f3823-13a0-4d87-d015-663fa942cfe3"
      },
      "execution_count": null,
      "outputs": [
        {
          "output_type": "stream",
          "name": "stdout",
          "text": [
            "+-----+--------------------+--------------------+-----+----------+------+-------------------+-----------------+-----------------+----------------+-----------+----+\n",
            "|index|        Product Name|         Product URL|Brand|Sale Price|   Mrp|Discount Percentage|Number Of Ratings|Number Of Reviews|             Upc|Star Rating| Ram|\n",
            "+-----+--------------------+--------------------+-----+----------+------+-------------------+-----------------+-----------------+----------------+-----------+----+\n",
            "|    0|APPLE iPhone 8 Pl...|https://www.flipk...|Apple|     49900| 49900|                  0|             3431|              356|MOBEXRGV7EHHTGUH|        4.6|2 GB|\n",
            "|    1|APPLE iPhone 8 Pl...|https://www.flipk...|Apple|     84900| 84900|                  0|             3431|              356|MOBEXRGVAC6TJT4F|        4.6|2 GB|\n",
            "|    2|APPLE iPhone 8 Pl...|https://www.flipk...|Apple|     84900| 84900|                  0|             3431|              356|MOBEXRGVGETABXWZ|        4.6|2 GB|\n",
            "|    3|APPLE iPhone 8 (S...|https://www.flipk...|Apple|     77000| 77000|                  0|            11202|              794|MOBEXRGVMZWUHCBA|        4.5|2 GB|\n",
            "|    4|APPLE iPhone 8 (G...|https://www.flipk...|Apple|     77000| 77000|                  0|            11202|              794|MOBEXRGVPK7PFEJZ|        4.5|2 GB|\n",
            "|    5|APPLE iPhone 8 Pl...|https://www.flipk...|Apple|     49900| 49900|                  0|             3431|              356|MOBEXRGVQGYYP8FV|        4.6|2 GB|\n",
            "|    6|APPLE iPhone 8 Pl...|https://www.flipk...|Apple|     49900| 49900|                  0|             3431|              356|MOBEXRGVQKBREZP8|        4.6|2 GB|\n",
            "|    7|APPLE iPhone 8 (S...|https://www.flipk...|Apple|     77000| 77000|                  0|            11202|              794|MOBEXRGVZFZGZEWV|        4.5|2 GB|\n",
            "|    8|APPLE iPhone XS M...|https://www.flipk...|Apple|     89900| 89900|                  0|             1454|              149|MOBF944E2XAHW8V5|        4.6|4 GB|\n",
            "|    9|Apple iPhone XR (...|https://www.flipk...|Apple|      NULL| 52900|                 20|            79512|             6796|MOBF9Z7ZHQC23PWQ|        4.6|4 GB|\n",
            "|   10|Apple iPhone XR (...|https://www.flipk...|Apple|     39999| 47900|                 16|            79512|             6796|            NULL|        4.6|4 GB|\n",
            "|   11|Apple iPhone XR (...|https://www.flipk...|Apple|     41999| 52900|                 20|            79582|             6804|MOBF9Z7ZS6GF5UAP|        4.6|4 GB|\n",
            "|   12|Apple iPhone XR (...|https://www.flipk...|Apple|     41999| 52900|                 20|            79512|             6796|MOBF9Z7ZYWNFGZUC|        4.6|3 GB|\n",
            "|   13|Apple iPhone XR (...|https://www.flipk...|Apple|     41999|  NULL|                 20|            79512|             6796|MOBF9Z7ZZY3HCDZZ|        4.6|4 GB|\n",
            "|   14|APPLE iPhone 11 P...|https://www.flipk...|Apple|    131900|131900|                  0|             1078|              101|MOBFKCTS7HCHSPFH|        4.7|4 GB|\n",
            "|   15|APPLE iPhone 11 P...|https://www.flipk...|Apple|    117100|117100|                  0|             1078|              101|MOBFKCTSAPAYNSGG|        4.7|4 GB|\n",
            "|   16|APPLE iPhone 11 P...|https://www.flipk...|Apple|    131900|131900|                  0|             1078|              101|MOBFKCTSCAAKGQV7|        4.7|4 GB|\n",
            "|   17|                NULL|https://www.flipk...|Apple|    117100|117100|                  0|             1078|              101|MOBFKCTSKDMKCGQS|        4.7|4 GB|\n",
            "|   18|APPLE iPhone 11 P...|https://www.flipk...|Apple|     74999|106600|                 29|             7088|              523|MOBFKCTSN3TG3RFJ|        4.6|4 GB|\n",
            "|   19|APPLE iPhone 11 P...|https://www.flipk...|Apple|    117900|140300|                 15|             7088|              523|MOBFKCTSRTHRQTFT|        4.6|4 GB|\n",
            "+-----+--------------------+--------------------+-----+----------+------+-------------------+-----------------+-----------------+----------------+-----------+----+\n",
            "only showing top 20 rows\n",
            "\n"
          ]
        }
      ]
    },
    {
      "cell_type": "code",
      "source": [
        "# Remove duplicate entries\n",
        "cleaned_sales_data = cleaned_sales_data.dropDuplicates()\n",
        "sales_data.show()"
      ],
      "metadata": {
        "colab": {
          "base_uri": "https://localhost:8080/"
        },
        "id": "MO8zQ2eE5iEj",
        "outputId": "91841d92-0d7c-4210-a2b8-dc146fd70212"
      },
      "execution_count": null,
      "outputs": [
        {
          "output_type": "stream",
          "name": "stdout",
          "text": [
            "+-----+--------------------+--------------------+-----+----------+------+-------------------+-----------------+-----------------+----------------+-----------+----+\n",
            "|index|        Product Name|         Product URL|Brand|Sale Price|   Mrp|Discount Percentage|Number Of Ratings|Number Of Reviews|             Upc|Star Rating| Ram|\n",
            "+-----+--------------------+--------------------+-----+----------+------+-------------------+-----------------+-----------------+----------------+-----------+----+\n",
            "|    0|APPLE iPhone 8 Pl...|https://www.flipk...|Apple|     49900| 49900|                  0|             3431|              356|MOBEXRGV7EHHTGUH|        4.6|2 GB|\n",
            "|    1|APPLE iPhone 8 Pl...|https://www.flipk...|Apple|     84900| 84900|                  0|             3431|              356|MOBEXRGVAC6TJT4F|        4.6|2 GB|\n",
            "|    2|APPLE iPhone 8 Pl...|https://www.flipk...|Apple|     84900| 84900|                  0|             3431|              356|MOBEXRGVGETABXWZ|        4.6|2 GB|\n",
            "|    3|APPLE iPhone 8 (S...|https://www.flipk...|Apple|     77000| 77000|                  0|            11202|              794|MOBEXRGVMZWUHCBA|        4.5|2 GB|\n",
            "|    4|APPLE iPhone 8 (G...|https://www.flipk...|Apple|     77000| 77000|                  0|            11202|              794|MOBEXRGVPK7PFEJZ|        4.5|2 GB|\n",
            "|    5|APPLE iPhone 8 Pl...|https://www.flipk...|Apple|     49900| 49900|                  0|             3431|              356|MOBEXRGVQGYYP8FV|        4.6|2 GB|\n",
            "|    6|APPLE iPhone 8 Pl...|https://www.flipk...|Apple|     49900| 49900|                  0|             3431|              356|MOBEXRGVQKBREZP8|        4.6|2 GB|\n",
            "|    7|APPLE iPhone 8 (S...|https://www.flipk...|Apple|     77000| 77000|                  0|            11202|              794|MOBEXRGVZFZGZEWV|        4.5|2 GB|\n",
            "|    8|APPLE iPhone XS M...|https://www.flipk...|Apple|     89900| 89900|                  0|             1454|              149|MOBF944E2XAHW8V5|        4.6|4 GB|\n",
            "|    9|Apple iPhone XR (...|https://www.flipk...|Apple|      NULL| 52900|                 20|            79512|             6796|MOBF9Z7ZHQC23PWQ|        4.6|4 GB|\n",
            "|   10|Apple iPhone XR (...|https://www.flipk...|Apple|     39999| 47900|                 16|            79512|             6796|            NULL|        4.6|4 GB|\n",
            "|   11|Apple iPhone XR (...|https://www.flipk...|Apple|     41999| 52900|                 20|            79582|             6804|MOBF9Z7ZS6GF5UAP|        4.6|4 GB|\n",
            "|   12|Apple iPhone XR (...|https://www.flipk...|Apple|     41999| 52900|                 20|            79512|             6796|MOBF9Z7ZYWNFGZUC|        4.6|3 GB|\n",
            "|   13|Apple iPhone XR (...|https://www.flipk...|Apple|     41999|  NULL|                 20|            79512|             6796|MOBF9Z7ZZY3HCDZZ|        4.6|4 GB|\n",
            "|   14|APPLE iPhone 11 P...|https://www.flipk...|Apple|    131900|131900|                  0|             1078|              101|MOBFKCTS7HCHSPFH|        4.7|4 GB|\n",
            "|   15|APPLE iPhone 11 P...|https://www.flipk...|Apple|    117100|117100|                  0|             1078|              101|MOBFKCTSAPAYNSGG|        4.7|4 GB|\n",
            "|   16|APPLE iPhone 11 P...|https://www.flipk...|Apple|    131900|131900|                  0|             1078|              101|MOBFKCTSCAAKGQV7|        4.7|4 GB|\n",
            "|   17|                NULL|https://www.flipk...|Apple|    117100|117100|                  0|             1078|              101|MOBFKCTSKDMKCGQS|        4.7|4 GB|\n",
            "|   18|APPLE iPhone 11 P...|https://www.flipk...|Apple|     74999|106600|                 29|             7088|              523|MOBFKCTSN3TG3RFJ|        4.6|4 GB|\n",
            "|   19|APPLE iPhone 11 P...|https://www.flipk...|Apple|    117900|140300|                 15|             7088|              523|MOBFKCTSRTHRQTFT|        4.6|4 GB|\n",
            "+-----+--------------------+--------------------+-----+----------+------+-------------------+-----------------+-----------------+----------------+-----------+----+\n",
            "only showing top 20 rows\n",
            "\n"
          ]
        }
      ]
    },
    {
      "cell_type": "code",
      "source": [
        "# Calculate the total sales amount for each product\n",
        "total_sales_by_product = cleaned_sales_data.groupBy(\"Product Name\").agg(sum(\"Sale Price\").alias(\"total_sales\"))\n"
      ],
      "metadata": {
        "id": "IYmFQH6G5l7r"
      },
      "execution_count": null,
      "outputs": []
    },
    {
      "cell_type": "code",
      "source": [
        "total_sales_by_product.show()"
      ],
      "metadata": {
        "colab": {
          "base_uri": "https://localhost:8080/"
        },
        "id": "e--bAtzQ6eHu",
        "outputId": "7b0a52fa-f5fb-4595-b11c-ff5fbc0c6168"
      },
      "execution_count": null,
      "outputs": [
        {
          "output_type": "stream",
          "name": "stdout",
          "text": [
            "+--------------------+-----------+\n",
            "|        Product Name|total_sales|\n",
            "+--------------------+-----------+\n",
            "|APPLE iPhone 11 (...|      46999|\n",
            "|APPLE iPhone 8 (S...|      77000|\n",
            "|APPLE iPhone 12 P...|     120900|\n",
            "|APPLE iPhone 12 (...|      70900|\n",
            "|APPLE iPhone 12 (...|      70900|\n",
            "|Apple iPhone XR (...|      41999|\n",
            "|APPLE iPhone 12 M...|      64900|\n",
            "|APPLE iPhone 12 P...|     130900|\n",
            "|APPLE iPhone 12 P...|     120900|\n",
            "|APPLE iPhone 11 P...|     117100|\n",
            "|APPLE iPhone SE (...|      34999|\n",
            "|Apple iPhone SE (...|      44999|\n",
            "|APPLE iPhone 12 P...|     130900|\n",
            "|APPLE iPhone XS M...|      89900|\n",
            "|APPLE iPhone 12 M...|      59900|\n",
            "|APPLE iPhone 11 P...|     117900|\n",
            "|APPLE iPhone SE (...|      34999|\n",
            "|APPLE iPhone 12 P...|     110900|\n",
            "|APPLE iPhone 12 P...|     120900|\n",
            "|APPLE iPhone 8 (S...|      77000|\n",
            "+--------------------+-----------+\n",
            "only showing top 20 rows\n",
            "\n"
          ]
        }
      ]
    },
    {
      "cell_type": "code",
      "source": [
        "total_sales_by_product.write.option(\"header\", \"true\").csv(\"filterproducts.csv\")"
      ],
      "metadata": {
        "id": "DjOX1thC6l17"
      },
      "execution_count": null,
      "outputs": []
    },
    {
      "cell_type": "code",
      "source": [
        "# Stop the SparkSession\n",
        "spark.stop()"
      ],
      "metadata": {
        "id": "kgeOCgL89t90"
      },
      "execution_count": null,
      "outputs": []
    }
  ]
}